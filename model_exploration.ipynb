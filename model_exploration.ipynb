{
 "cells": [
  {
   "cell_type": "markdown",
   "id": "10eeb295",
   "metadata": {},
   "source": [
    "# Model Exploration\n",
    "This objective of this project is to evaluates 3 approaches to accurately analyze real-world data: a naive approach, a non deep learning approach, and a neural network-based deep learning approach "
   ]
  },
  {
   "cell_type": "markdown",
   "id": "2b2a6768",
   "metadata": {},
   "source": [
    "### Naive Approach"
   ]
  },
  {
   "cell_type": "code",
   "execution_count": null,
   "id": "d32c191c",
   "metadata": {
    "vscode": {
     "languageId": "plaintext"
    }
   },
   "outputs": [],
   "source": []
  },
  {
   "cell_type": "markdown",
   "id": "2e319181",
   "metadata": {},
   "source": [
    "### Classical Machine Learning Approach"
   ]
  },
  {
   "cell_type": "code",
   "execution_count": null,
   "id": "11855d81",
   "metadata": {
    "vscode": {
     "languageId": "plaintext"
    }
   },
   "outputs": [],
   "source": []
  },
  {
   "cell_type": "markdown",
   "id": "c97c3fb5",
   "metadata": {},
   "source": [
    "### Neural Network-based Deep Learning Approach"
   ]
  },
  {
   "cell_type": "code",
   "execution_count": null,
   "id": "da5446b1",
   "metadata": {
    "vscode": {
     "languageId": "plaintext"
    }
   },
   "outputs": [],
   "source": []
  }
 ],
 "metadata": {
  "language_info": {
   "name": "python"
  }
 },
 "nbformat": 4,
 "nbformat_minor": 5
}
