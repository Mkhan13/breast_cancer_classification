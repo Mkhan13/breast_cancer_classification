{
 "cells": [
  {
   "cell_type": "markdown",
   "id": "10eeb295",
   "metadata": {},
   "source": [
    "# Model Exploration\n",
    "This objective of this project is to evaluates 3 approaches to accurately analyze real-world data: a naive approach, a non deep learning approach, and a neural network-based deep learning approach "
   ]
  },
  {
   "cell_type": "code",
   "execution_count": 1,
   "id": "8c9711b9",
   "metadata": {},
   "outputs": [],
   "source": [
    "# Imports\n",
    "import os\n",
    "import numpy as np\n",
    "from pathlib import Path\n",
    "from collections import Counter\n",
    "from sklearn.metrics import accuracy_score, f1_score, roc_auc_score, classification_report"
   ]
  },
  {
   "cell_type": "code",
   "execution_count": 2,
   "id": "ae5fe263",
   "metadata": {},
   "outputs": [],
   "source": [
    "# Paths\n",
    "train_dir = Path(\"data/processed/train\")\n",
    "val_dir = Path(\"data/processed/val\")\n",
    "test_dir = Path(\"data/processed/test\")"
   ]
  },
  {
   "cell_type": "markdown",
   "id": "2b2a6768",
   "metadata": {},
   "source": [
    "### Naive Approach\n",
    "Predict the majority class"
   ]
  },
  {
   "cell_type": "code",
   "execution_count": null,
   "id": "d32c191c",
   "metadata": {},
   "outputs": [
    {
     "name": "stdout",
     "output_type": "stream",
     "text": [
      "Train set: {'0': 155946, '1': 62302}\n",
      "Validation set: {'0': 17561, '1': 7029}\n",
      "Test set: {'0': 25231, '1': 9455}\n"
     ]
    }
   ],
   "source": [
    "def count_images_per_class(directory):\n",
    "    '''Count the number of images per class'''\n",
    "    counts = {}\n",
    "    for cls in [\"0\", \"1\"]:\n",
    "        cls_path = directory / cls # Build path to class folder\n",
    "        counts[cls] = len(list(cls_path.glob(\"*.png\"))) # Line written with GPT-5\n",
    "    return counts\n",
    "\n",
    "print(\"Train set:\", count_images_per_class(train_dir))\n",
    "print(\"Validation set:\", count_images_per_class(val_dir))\n",
    "print(\"Test set:\", count_images_per_class(test_dir))"
   ]
  },
  {
   "cell_type": "code",
   "execution_count": null,
   "id": "970ca2e5",
   "metadata": {},
   "outputs": [
    {
     "name": "stdout",
     "output_type": "stream",
     "text": [
      "Majority class in training set: 0\n"
     ]
    }
   ],
   "source": [
    "train_counts = count_images_per_class(train_dir) # Count number of images in each class in train set\n",
    "majority_class = max(train_counts, key=train_counts.get) # Determine which class has the most images\n",
    "print(f\"Majority class in training set: {majority_class}\")"
   ]
  },
  {
   "cell_type": "code",
   "execution_count": null,
   "id": "36c4a5af",
   "metadata": {},
   "outputs": [],
   "source": [
    "def naive_predict(directory, predicted_class):\n",
    "    \"\"\"\n",
    "    Predicts the majority class for all images in a given directory.\n",
    "    \"\"\"\n",
    "    y_true = []\n",
    "    y_pred = []\n",
    "    for cls in [\"0\", \"1\"]:\n",
    "        cls_path = directory / cls\n",
    "        files = list(cls_path.glob(\"*.png\")) # List of all PNG files in class folder\n",
    "        y_true.extend([int(cls)] * len(files)) # Add true lables to y_true\n",
    "        y_pred.extend([int(predicted_class)] * len(files)) # Add predicted lables to y_pred\n",
    "    return y_true, y_pred"
   ]
  },
  {
   "cell_type": "code",
   "execution_count": null,
   "id": "662f3712",
   "metadata": {},
   "outputs": [
    {
     "name": "stdout",
     "output_type": "stream",
     "text": [
      "Validation Set:\n",
      "Accuracy: 0.7142\n",
      "F1-score: 0.0\n",
      "ROC-AUC: 0.5\n",
      "              precision    recall  f1-score   support\n",
      "\n",
      "           0       0.71      1.00      0.83     17561\n",
      "           1       0.00      0.00      0.00      7029\n",
      "\n",
      "    accuracy                           0.71     24590\n",
      "   macro avg       0.36      0.50      0.42     24590\n",
      "weighted avg       0.51      0.71      0.60     24590\n",
      "\n",
      "Test Set:\n",
      "Accuracy: 0.7274\n",
      "F1-score: 0.0\n",
      "ROC-AUC: 0.5\n",
      "              precision    recall  f1-score   support\n",
      "\n",
      "           0       0.73      1.00      0.84     25231\n",
      "           1       0.00      0.00      0.00      9455\n",
      "\n",
      "    accuracy                           0.73     34686\n",
      "   macro avg       0.36      0.50      0.42     34686\n",
      "weighted avg       0.53      0.73      0.61     34686\n",
      "\n"
     ]
    }
   ],
   "source": [
    "# Validation set evaluation\n",
    "y_val_true, y_val_pred = naive_predict(val_dir, majority_class)\n",
    "val_accuracy = accuracy_score(y_val_true, y_val_pred)\n",
    "val_f1_score = f1_score(y_val_true, y_val_pred)\n",
    "val_roc_auc = roc_auc_score(y_val_true, y_val_pred)\n",
    "\n",
    "print(\"Validation Set:\")\n",
    "print(\"Accuracy:\", round(val_accuracy, 4))\n",
    "print(\"F1-score:\", round(val_f1_score, 4))\n",
    "print(\"ROC-AUC:\", round(val_roc_auc, 4))\n",
    "print(classification_report(y_val_true, y_val_pred, zero_division=0))\n",
    "\n",
    "# Test set evaluation\n",
    "y_test_true, y_test_pred = naive_predict(test_dir, majority_class)\n",
    "test_accuracy = accuracy_score(y_test_true, y_test_pred)\n",
    "test_f1_score = f1_score(y_test_true, y_test_pred)\n",
    "test_roc_auc = roc_auc_score(y_test_true, y_test_pred)\n",
    "\n",
    "print(\"Test Set:\")\n",
    "print(\"Accuracy:\", round(test_accuracy, 4))\n",
    "print(\"F1-score:\", round(test_f1_score, 4))\n",
    "print(\"ROC-AUC:\", round(test_roc_auc, 4))\n",
    "print(classification_report(y_test_true, y_test_pred, zero_division=0))"
   ]
  },
  {
   "cell_type": "markdown",
   "id": "6f139cc8",
   "metadata": {},
   "source": []
  },
  {
   "cell_type": "markdown",
   "id": "2e319181",
   "metadata": {},
   "source": [
    "### Classical Machine Learning Approach"
   ]
  },
  {
   "cell_type": "code",
   "execution_count": null,
   "id": "11855d81",
   "metadata": {},
   "outputs": [],
   "source": []
  },
  {
   "cell_type": "markdown",
   "id": "c97c3fb5",
   "metadata": {},
   "source": [
    "### Neural Network-based Deep Learning Approach"
   ]
  },
  {
   "cell_type": "code",
   "execution_count": null,
   "id": "da5446b1",
   "metadata": {},
   "outputs": [],
   "source": []
  }
 ],
 "metadata": {
  "kernelspec": {
   "display_name": ".venv",
   "language": "python",
   "name": "python3"
  },
  "language_info": {
   "codemirror_mode": {
    "name": "ipython",
    "version": 3
   },
   "file_extension": ".py",
   "mimetype": "text/x-python",
   "name": "python",
   "nbconvert_exporter": "python",
   "pygments_lexer": "ipython3",
   "version": "3.12.6"
  }
 },
 "nbformat": 4,
 "nbformat_minor": 5
}
